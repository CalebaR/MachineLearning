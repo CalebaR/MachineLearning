{
  "nbformat": 4,
  "nbformat_minor": 0,
  "metadata": {
    "colab": {
      "provenance": []
    },
    "kernelspec": {
      "name": "ir",
      "display_name": "R"
    },
    "language_info": {
      "name": "R"
    }
  },
  "cells": [
    {
      "cell_type": "code",
      "execution_count": 212,
      "metadata": {
        "colab": {
          "base_uri": "https://localhost:8080/",
          "height": 52
        },
        "id": "7wu8bfvGagKU",
        "outputId": "7733542d-1e67-46be-e27d-f1f062ed881e"
      },
      "outputs": [
        {
          "output_type": "display_data",
          "data": {
            "text/html": [
              "<style>\n",
              ".list-inline {list-style: none; margin:0; padding: 0}\n",
              ".list-inline>li {display: inline-block}\n",
              ".list-inline>li:not(:last-child)::after {content: \"\\00b7\"; padding: 0 .5ex}\n",
              "</style>\n",
              "<ol class=list-inline><li>1000</li><li>153</li></ol>\n"
            ],
            "text/markdown": "1. 1000\n2. 153\n\n\n",
            "text/latex": "\\begin{enumerate*}\n\\item 1000\n\\item 153\n\\end{enumerate*}\n",
            "text/plain": [
              "[1] 1000  153"
            ]
          },
          "metadata": {}
        },
        {
          "output_type": "display_data",
          "data": {
            "text/html": [
              "<style>\n",
              ".list-inline {list-style: none; margin:0; padding: 0}\n",
              ".list-inline>li {display: inline-block}\n",
              ".list-inline>li:not(:last-child)::after {content: \"\\00b7\"; padding: 0 .5ex}\n",
              "</style>\n",
              "<ol class=list-inline><li>6164</li><li>153</li></ol>\n"
            ],
            "text/markdown": "1. 6164\n2. 153\n\n\n",
            "text/latex": "\\begin{enumerate*}\n\\item 6164\n\\item 153\n\\end{enumerate*}\n",
            "text/plain": [
              "[1] 6164  153"
            ]
          },
          "metadata": {}
        }
      ],
      "source": [
        "#install.packages(\"kknn\")\n",
        "#install.packages(\"caret\")\n",
        "#install.packages('naivebayes')\n",
        "library(tidyverse);\n",
        "library(kknn)\n",
        "library(caret) #useful for confusionMatrix\n",
        "library(naivebayes)\n",
        "\n",
        "trainData = read.table(\"Wafer_TRAIN.txt\", header = FALSE, sep = \"\", dec = \".\")\n",
        "testData = read.table(\"Wafer_TEST.txt\", header = FALSE, sep = \"\", dec = \".\") #reading txt files to data frame\n",
        "\n",
        "trainData$V1 = as.factor(trainData$V1)\n",
        "testData$V1 = as.factor(testData$V1) #convert response variable to be categorical nominal\n",
        "\n",
        "dim(trainData)\n",
        "dim(testData)"
      ]
    },
    {
      "cell_type": "code",
      "source": [
        "head(trainData)\n",
        "head(testData)"
      ],
      "metadata": {
        "colab": {
          "base_uri": "https://localhost:8080/",
          "height": 575
        },
        "id": "yQRvihuoL0fO",
        "outputId": "2bbc15bc-cff1-4b9a-f905-3475c811b8d6"
      },
      "execution_count": 213,
      "outputs": [
        {
          "output_type": "display_data",
          "data": {
            "text/html": [
              "<table class=\"dataframe\">\n",
              "<caption>A data.frame: 6 × 153</caption>\n",
              "<thead>\n",
              "\t<tr><th></th><th scope=col>V1</th><th scope=col>V2</th><th scope=col>V3</th><th scope=col>V4</th><th scope=col>V5</th><th scope=col>V6</th><th scope=col>V7</th><th scope=col>V8</th><th scope=col>V9</th><th scope=col>V10</th><th scope=col>⋯</th><th scope=col>V144</th><th scope=col>V145</th><th scope=col>V146</th><th scope=col>V147</th><th scope=col>V148</th><th scope=col>V149</th><th scope=col>V150</th><th scope=col>V151</th><th scope=col>V152</th><th scope=col>V153</th></tr>\n",
              "\t<tr><th></th><th scope=col>&lt;fct&gt;</th><th scope=col>&lt;dbl&gt;</th><th scope=col>&lt;dbl&gt;</th><th scope=col>&lt;dbl&gt;</th><th scope=col>&lt;dbl&gt;</th><th scope=col>&lt;dbl&gt;</th><th scope=col>&lt;dbl&gt;</th><th scope=col>&lt;dbl&gt;</th><th scope=col>&lt;dbl&gt;</th><th scope=col>&lt;dbl&gt;</th><th scope=col>⋯</th><th scope=col>&lt;dbl&gt;</th><th scope=col>&lt;dbl&gt;</th><th scope=col>&lt;dbl&gt;</th><th scope=col>&lt;dbl&gt;</th><th scope=col>&lt;dbl&gt;</th><th scope=col>&lt;dbl&gt;</th><th scope=col>&lt;dbl&gt;</th><th scope=col>&lt;dbl&gt;</th><th scope=col>&lt;dbl&gt;</th><th scope=col>&lt;dbl&gt;</th></tr>\n",
              "</thead>\n",
              "<tbody>\n",
              "\t<tr><th scope=row>1</th><td>1</td><td>-1.6022936</td><td>-1.6708228</td><td>-1.6936659</td><td>-1.6993767</td><td>-1.6993767</td><td>-1.7036597</td><td>-1.7036597</td><td>-1.7036597</td><td>-1.7036597</td><td>⋯</td><td>-1.1454320</td><td>-1.1454320</td><td>-1.1454320</td><td>-1.1454320</td><td>-1.1454320</td><td>-1.1454320</td><td>-1.1454320</td><td>-1.1454320</td><td>-1.1454320</td><td>-1.1454320</td></tr>\n",
              "\t<tr><th scope=row>2</th><td>1</td><td> 1.0845914</td><td> 1.0845914</td><td> 1.0845914</td><td> 1.0653076</td><td> 1.0653076</td><td> 1.0653076</td><td> 1.0653076</td><td> 1.0653076</td><td> 1.0653076</td><td>⋯</td><td> 1.0653076</td><td> 1.0653076</td><td> 1.0653076</td><td> 1.0653076</td><td> 1.0653076</td><td> 1.0653076</td><td> 1.0653076</td><td> 1.0653076</td><td> 1.0653076</td><td> 1.0653076</td></tr>\n",
              "\t<tr><th scope=row>3</th><td>1</td><td> 0.3626885</td><td> 0.3626885</td><td> 0.3626885</td><td> 0.3933156</td><td> 0.3626885</td><td> 0.3626885</td><td> 0.3626885</td><td> 0.3626885</td><td> 0.3626885</td><td>⋯</td><td> 0.3933156</td><td> 0.3933156</td><td> 0.3933156</td><td> 0.3626885</td><td> 0.3933156</td><td> 0.3933156</td><td> 0.3933156</td><td> 0.3933156</td><td> 0.3933156</td><td> 0.3933156</td></tr>\n",
              "\t<tr><th scope=row>4</th><td>1</td><td>-1.0945235</td><td>-1.0945235</td><td>-1.0945235</td><td>-1.0967319</td><td>-1.0945235</td><td>-1.0967319</td><td>-1.0945235</td><td>-1.0945235</td><td>-1.0945235</td><td>⋯</td><td>-1.0967319</td><td>-1.0967319</td><td>-1.0967319</td><td>-1.0967319</td><td>-1.0967319</td><td>-1.0967319</td><td>-1.0967319</td><td>-1.0967319</td><td>-1.0967319</td><td>-1.0967319</td></tr>\n",
              "\t<tr><th scope=row>5</th><td>1</td><td>-1.1037610</td><td>-1.1037610</td><td>-1.1037610</td><td>-1.1037610</td><td>-1.1037610</td><td>-1.1037610</td><td>-1.1037610</td><td>-1.1037610</td><td>-1.1037610</td><td>⋯</td><td>-1.1037610</td><td>-1.1037610</td><td>-1.1037610</td><td>-1.1037610</td><td>-1.1037610</td><td>-1.1037610</td><td>-1.1037610</td><td>-1.1037610</td><td>-1.1037610</td><td>-1.1037610</td></tr>\n",
              "\t<tr><th scope=row>6</th><td>1</td><td> 0.4250210</td><td> 0.4250210</td><td> 0.4562153</td><td> 0.4250210</td><td> 0.4250210</td><td> 0.4250210</td><td> 0.4250210</td><td> 0.4250210</td><td> 0.4250210</td><td>⋯</td><td> 0.4250210</td><td> 0.4250210</td><td> 0.4250210</td><td> 0.4250210</td><td> 0.4250210</td><td> 0.4250210</td><td> 0.4250210</td><td> 0.4250210</td><td> 0.4250210</td><td> 0.4250210</td></tr>\n",
              "</tbody>\n",
              "</table>\n"
            ],
            "text/markdown": "\nA data.frame: 6 × 153\n\n| <!--/--> | V1 &lt;fct&gt; | V2 &lt;dbl&gt; | V3 &lt;dbl&gt; | V4 &lt;dbl&gt; | V5 &lt;dbl&gt; | V6 &lt;dbl&gt; | V7 &lt;dbl&gt; | V8 &lt;dbl&gt; | V9 &lt;dbl&gt; | V10 &lt;dbl&gt; | ⋯ ⋯ | V144 &lt;dbl&gt; | V145 &lt;dbl&gt; | V146 &lt;dbl&gt; | V147 &lt;dbl&gt; | V148 &lt;dbl&gt; | V149 &lt;dbl&gt; | V150 &lt;dbl&gt; | V151 &lt;dbl&gt; | V152 &lt;dbl&gt; | V153 &lt;dbl&gt; |\n|---|---|---|---|---|---|---|---|---|---|---|---|---|---|---|---|---|---|---|---|---|---|\n| 1 | 1 | -1.6022936 | -1.6708228 | -1.6936659 | -1.6993767 | -1.6993767 | -1.7036597 | -1.7036597 | -1.7036597 | -1.7036597 | ⋯ | -1.1454320 | -1.1454320 | -1.1454320 | -1.1454320 | -1.1454320 | -1.1454320 | -1.1454320 | -1.1454320 | -1.1454320 | -1.1454320 |\n| 2 | 1 |  1.0845914 |  1.0845914 |  1.0845914 |  1.0653076 |  1.0653076 |  1.0653076 |  1.0653076 |  1.0653076 |  1.0653076 | ⋯ |  1.0653076 |  1.0653076 |  1.0653076 |  1.0653076 |  1.0653076 |  1.0653076 |  1.0653076 |  1.0653076 |  1.0653076 |  1.0653076 |\n| 3 | 1 |  0.3626885 |  0.3626885 |  0.3626885 |  0.3933156 |  0.3626885 |  0.3626885 |  0.3626885 |  0.3626885 |  0.3626885 | ⋯ |  0.3933156 |  0.3933156 |  0.3933156 |  0.3626885 |  0.3933156 |  0.3933156 |  0.3933156 |  0.3933156 |  0.3933156 |  0.3933156 |\n| 4 | 1 | -1.0945235 | -1.0945235 | -1.0945235 | -1.0967319 | -1.0945235 | -1.0967319 | -1.0945235 | -1.0945235 | -1.0945235 | ⋯ | -1.0967319 | -1.0967319 | -1.0967319 | -1.0967319 | -1.0967319 | -1.0967319 | -1.0967319 | -1.0967319 | -1.0967319 | -1.0967319 |\n| 5 | 1 | -1.1037610 | -1.1037610 | -1.1037610 | -1.1037610 | -1.1037610 | -1.1037610 | -1.1037610 | -1.1037610 | -1.1037610 | ⋯ | -1.1037610 | -1.1037610 | -1.1037610 | -1.1037610 | -1.1037610 | -1.1037610 | -1.1037610 | -1.1037610 | -1.1037610 | -1.1037610 |\n| 6 | 1 |  0.4250210 |  0.4250210 |  0.4562153 |  0.4250210 |  0.4250210 |  0.4250210 |  0.4250210 |  0.4250210 |  0.4250210 | ⋯ |  0.4250210 |  0.4250210 |  0.4250210 |  0.4250210 |  0.4250210 |  0.4250210 |  0.4250210 |  0.4250210 |  0.4250210 |  0.4250210 |\n\n",
            "text/latex": "A data.frame: 6 × 153\n\\begin{tabular}{r|lllllllllllllllllllll}\n  & V1 & V2 & V3 & V4 & V5 & V6 & V7 & V8 & V9 & V10 & ⋯ & V144 & V145 & V146 & V147 & V148 & V149 & V150 & V151 & V152 & V153\\\\\n  & <fct> & <dbl> & <dbl> & <dbl> & <dbl> & <dbl> & <dbl> & <dbl> & <dbl> & <dbl> & ⋯ & <dbl> & <dbl> & <dbl> & <dbl> & <dbl> & <dbl> & <dbl> & <dbl> & <dbl> & <dbl>\\\\\n\\hline\n\t1 & 1 & -1.6022936 & -1.6708228 & -1.6936659 & -1.6993767 & -1.6993767 & -1.7036597 & -1.7036597 & -1.7036597 & -1.7036597 & ⋯ & -1.1454320 & -1.1454320 & -1.1454320 & -1.1454320 & -1.1454320 & -1.1454320 & -1.1454320 & -1.1454320 & -1.1454320 & -1.1454320\\\\\n\t2 & 1 &  1.0845914 &  1.0845914 &  1.0845914 &  1.0653076 &  1.0653076 &  1.0653076 &  1.0653076 &  1.0653076 &  1.0653076 & ⋯ &  1.0653076 &  1.0653076 &  1.0653076 &  1.0653076 &  1.0653076 &  1.0653076 &  1.0653076 &  1.0653076 &  1.0653076 &  1.0653076\\\\\n\t3 & 1 &  0.3626885 &  0.3626885 &  0.3626885 &  0.3933156 &  0.3626885 &  0.3626885 &  0.3626885 &  0.3626885 &  0.3626885 & ⋯ &  0.3933156 &  0.3933156 &  0.3933156 &  0.3626885 &  0.3933156 &  0.3933156 &  0.3933156 &  0.3933156 &  0.3933156 &  0.3933156\\\\\n\t4 & 1 & -1.0945235 & -1.0945235 & -1.0945235 & -1.0967319 & -1.0945235 & -1.0967319 & -1.0945235 & -1.0945235 & -1.0945235 & ⋯ & -1.0967319 & -1.0967319 & -1.0967319 & -1.0967319 & -1.0967319 & -1.0967319 & -1.0967319 & -1.0967319 & -1.0967319 & -1.0967319\\\\\n\t5 & 1 & -1.1037610 & -1.1037610 & -1.1037610 & -1.1037610 & -1.1037610 & -1.1037610 & -1.1037610 & -1.1037610 & -1.1037610 & ⋯ & -1.1037610 & -1.1037610 & -1.1037610 & -1.1037610 & -1.1037610 & -1.1037610 & -1.1037610 & -1.1037610 & -1.1037610 & -1.1037610\\\\\n\t6 & 1 &  0.4250210 &  0.4250210 &  0.4562153 &  0.4250210 &  0.4250210 &  0.4250210 &  0.4250210 &  0.4250210 &  0.4250210 & ⋯ &  0.4250210 &  0.4250210 &  0.4250210 &  0.4250210 &  0.4250210 &  0.4250210 &  0.4250210 &  0.4250210 &  0.4250210 &  0.4250210\\\\\n\\end{tabular}\n",
            "text/plain": [
              "  V1 V2         V3         V4         V5         V6         V7        \n",
              "1 1  -1.6022936 -1.6708228 -1.6936659 -1.6993767 -1.6993767 -1.7036597\n",
              "2 1   1.0845914  1.0845914  1.0845914  1.0653076  1.0653076  1.0653076\n",
              "3 1   0.3626885  0.3626885  0.3626885  0.3933156  0.3626885  0.3626885\n",
              "4 1  -1.0945235 -1.0945235 -1.0945235 -1.0967319 -1.0945235 -1.0967319\n",
              "5 1  -1.1037610 -1.1037610 -1.1037610 -1.1037610 -1.1037610 -1.1037610\n",
              "6 1   0.4250210  0.4250210  0.4562153  0.4250210  0.4250210  0.4250210\n",
              "  V8         V9         V10        ⋯ V144       V145       V146      \n",
              "1 -1.7036597 -1.7036597 -1.7036597 ⋯ -1.1454320 -1.1454320 -1.1454320\n",
              "2  1.0653076  1.0653076  1.0653076 ⋯  1.0653076  1.0653076  1.0653076\n",
              "3  0.3626885  0.3626885  0.3626885 ⋯  0.3933156  0.3933156  0.3933156\n",
              "4 -1.0945235 -1.0945235 -1.0945235 ⋯ -1.0967319 -1.0967319 -1.0967319\n",
              "5 -1.1037610 -1.1037610 -1.1037610 ⋯ -1.1037610 -1.1037610 -1.1037610\n",
              "6  0.4250210  0.4250210  0.4250210 ⋯  0.4250210  0.4250210  0.4250210\n",
              "  V147       V148       V149       V150       V151       V152       V153      \n",
              "1 -1.1454320 -1.1454320 -1.1454320 -1.1454320 -1.1454320 -1.1454320 -1.1454320\n",
              "2  1.0653076  1.0653076  1.0653076  1.0653076  1.0653076  1.0653076  1.0653076\n",
              "3  0.3626885  0.3933156  0.3933156  0.3933156  0.3933156  0.3933156  0.3933156\n",
              "4 -1.0967319 -1.0967319 -1.0967319 -1.0967319 -1.0967319 -1.0967319 -1.0967319\n",
              "5 -1.1037610 -1.1037610 -1.1037610 -1.1037610 -1.1037610 -1.1037610 -1.1037610\n",
              "6  0.4250210  0.4250210  0.4250210  0.4250210  0.4250210  0.4250210  0.4250210"
            ]
          },
          "metadata": {}
        },
        {
          "output_type": "display_data",
          "data": {
            "text/html": [
              "<table class=\"dataframe\">\n",
              "<caption>A data.frame: 6 × 153</caption>\n",
              "<thead>\n",
              "\t<tr><th></th><th scope=col>V1</th><th scope=col>V2</th><th scope=col>V3</th><th scope=col>V4</th><th scope=col>V5</th><th scope=col>V6</th><th scope=col>V7</th><th scope=col>V8</th><th scope=col>V9</th><th scope=col>V10</th><th scope=col>⋯</th><th scope=col>V144</th><th scope=col>V145</th><th scope=col>V146</th><th scope=col>V147</th><th scope=col>V148</th><th scope=col>V149</th><th scope=col>V150</th><th scope=col>V151</th><th scope=col>V152</th><th scope=col>V153</th></tr>\n",
              "\t<tr><th></th><th scope=col>&lt;fct&gt;</th><th scope=col>&lt;dbl&gt;</th><th scope=col>&lt;dbl&gt;</th><th scope=col>&lt;dbl&gt;</th><th scope=col>&lt;dbl&gt;</th><th scope=col>&lt;dbl&gt;</th><th scope=col>&lt;dbl&gt;</th><th scope=col>&lt;dbl&gt;</th><th scope=col>&lt;dbl&gt;</th><th scope=col>&lt;dbl&gt;</th><th scope=col>⋯</th><th scope=col>&lt;dbl&gt;</th><th scope=col>&lt;dbl&gt;</th><th scope=col>&lt;dbl&gt;</th><th scope=col>&lt;dbl&gt;</th><th scope=col>&lt;dbl&gt;</th><th scope=col>&lt;dbl&gt;</th><th scope=col>&lt;dbl&gt;</th><th scope=col>&lt;dbl&gt;</th><th scope=col>&lt;dbl&gt;</th><th scope=col>&lt;dbl&gt;</th></tr>\n",
              "</thead>\n",
              "<tbody>\n",
              "\t<tr><th scope=row>1</th><td>1</td><td>-1.079707</td><td>-1.083256</td><td>-1.079707</td><td>-1.079707</td><td>-1.079707</td><td>-1.079707</td><td>-1.079707</td><td>-1.079707</td><td>-1.079707</td><td>⋯</td><td>-1.0797068</td><td>-1.0797068</td><td>-1.0797068</td><td>-1.0797068</td><td>-1.0797068</td><td>-1.0797068</td><td>-1.0797068</td><td>-1.0797068</td><td>-1.0797068</td><td>-1.0797068</td></tr>\n",
              "\t<tr><th scope=row>2</th><td>1</td><td>-1.080197</td><td>-1.078021</td><td>-1.078021</td><td>-1.078021</td><td>-1.078021</td><td>-1.078021</td><td>-1.080197</td><td>-1.078021</td><td>-1.078021</td><td>⋯</td><td>-1.1106696</td><td>-1.1128462</td><td>-1.1150228</td><td>-1.1171994</td><td>-1.1193760</td><td>-1.1215526</td><td>-1.1237292</td><td>-1.1259058</td><td>-1.1280824</td><td>-1.1302591</td></tr>\n",
              "\t<tr><th scope=row>3</th><td>1</td><td>-1.154060</td><td>-1.154060</td><td>-1.154060</td><td>-1.154060</td><td>-1.154060</td><td>-1.154060</td><td>-1.154060</td><td>-1.154060</td><td>-1.154060</td><td>⋯</td><td>-1.1540601</td><td>-1.1540601</td><td>-1.1540601</td><td>-1.1540601</td><td>-1.1540601</td><td>-1.1540601</td><td>-1.1540601</td><td>-1.1540601</td><td>-1.1540601</td><td>-1.1540601</td></tr>\n",
              "\t<tr><th scope=row>4</th><td>1</td><td>-1.658965</td><td>-1.696605</td><td>-1.705291</td><td>-1.711082</td><td>-1.711082</td><td>-1.715425</td><td>-1.715425</td><td>-1.715425</td><td>-1.715425</td><td>⋯</td><td>-1.1493818</td><td>-1.1493818</td><td>-1.1493818</td><td>-1.1493818</td><td>-1.1493818</td><td>-1.1493818</td><td>-1.1493818</td><td>-1.1493818</td><td>-1.1493818</td><td>-1.1493818</td></tr>\n",
              "\t<tr><th scope=row>5</th><td>1</td><td>-1.201221</td><td>-1.199042</td><td>-1.199042</td><td>-1.201221</td><td>-1.199042</td><td>-1.199042</td><td>-1.199042</td><td>-1.199042</td><td>-1.199042</td><td>⋯</td><td>-1.1859678</td><td>-1.1837887</td><td>-1.1816096</td><td>-1.1794305</td><td>-1.1772515</td><td>-1.1750724</td><td>-1.1728933</td><td>-1.1707142</td><td>-1.1685351</td><td>-1.1663560</td></tr>\n",
              "\t<tr><th scope=row>6</th><td>1</td><td>-1.488544</td><td>-1.519276</td><td>-1.527657</td><td>-1.533245</td><td>-1.537436</td><td>-1.537436</td><td>-1.537436</td><td>-1.533245</td><td>-1.537436</td><td>⋯</td><td>-0.9968258</td><td>-0.9968258</td><td>-0.9968258</td><td>-0.9968258</td><td>-0.9968258</td><td>-0.9968258</td><td>-0.9968258</td><td>-0.9968258</td><td>-0.9968258</td><td>-0.9968258</td></tr>\n",
              "</tbody>\n",
              "</table>\n"
            ],
            "text/markdown": "\nA data.frame: 6 × 153\n\n| <!--/--> | V1 &lt;fct&gt; | V2 &lt;dbl&gt; | V3 &lt;dbl&gt; | V4 &lt;dbl&gt; | V5 &lt;dbl&gt; | V6 &lt;dbl&gt; | V7 &lt;dbl&gt; | V8 &lt;dbl&gt; | V9 &lt;dbl&gt; | V10 &lt;dbl&gt; | ⋯ ⋯ | V144 &lt;dbl&gt; | V145 &lt;dbl&gt; | V146 &lt;dbl&gt; | V147 &lt;dbl&gt; | V148 &lt;dbl&gt; | V149 &lt;dbl&gt; | V150 &lt;dbl&gt; | V151 &lt;dbl&gt; | V152 &lt;dbl&gt; | V153 &lt;dbl&gt; |\n|---|---|---|---|---|---|---|---|---|---|---|---|---|---|---|---|---|---|---|---|---|---|\n| 1 | 1 | -1.079707 | -1.083256 | -1.079707 | -1.079707 | -1.079707 | -1.079707 | -1.079707 | -1.079707 | -1.079707 | ⋯ | -1.0797068 | -1.0797068 | -1.0797068 | -1.0797068 | -1.0797068 | -1.0797068 | -1.0797068 | -1.0797068 | -1.0797068 | -1.0797068 |\n| 2 | 1 | -1.080197 | -1.078021 | -1.078021 | -1.078021 | -1.078021 | -1.078021 | -1.080197 | -1.078021 | -1.078021 | ⋯ | -1.1106696 | -1.1128462 | -1.1150228 | -1.1171994 | -1.1193760 | -1.1215526 | -1.1237292 | -1.1259058 | -1.1280824 | -1.1302591 |\n| 3 | 1 | -1.154060 | -1.154060 | -1.154060 | -1.154060 | -1.154060 | -1.154060 | -1.154060 | -1.154060 | -1.154060 | ⋯ | -1.1540601 | -1.1540601 | -1.1540601 | -1.1540601 | -1.1540601 | -1.1540601 | -1.1540601 | -1.1540601 | -1.1540601 | -1.1540601 |\n| 4 | 1 | -1.658965 | -1.696605 | -1.705291 | -1.711082 | -1.711082 | -1.715425 | -1.715425 | -1.715425 | -1.715425 | ⋯ | -1.1493818 | -1.1493818 | -1.1493818 | -1.1493818 | -1.1493818 | -1.1493818 | -1.1493818 | -1.1493818 | -1.1493818 | -1.1493818 |\n| 5 | 1 | -1.201221 | -1.199042 | -1.199042 | -1.201221 | -1.199042 | -1.199042 | -1.199042 | -1.199042 | -1.199042 | ⋯ | -1.1859678 | -1.1837887 | -1.1816096 | -1.1794305 | -1.1772515 | -1.1750724 | -1.1728933 | -1.1707142 | -1.1685351 | -1.1663560 |\n| 6 | 1 | -1.488544 | -1.519276 | -1.527657 | -1.533245 | -1.537436 | -1.537436 | -1.537436 | -1.533245 | -1.537436 | ⋯ | -0.9968258 | -0.9968258 | -0.9968258 | -0.9968258 | -0.9968258 | -0.9968258 | -0.9968258 | -0.9968258 | -0.9968258 | -0.9968258 |\n\n",
            "text/latex": "A data.frame: 6 × 153\n\\begin{tabular}{r|lllllllllllllllllllll}\n  & V1 & V2 & V3 & V4 & V5 & V6 & V7 & V8 & V9 & V10 & ⋯ & V144 & V145 & V146 & V147 & V148 & V149 & V150 & V151 & V152 & V153\\\\\n  & <fct> & <dbl> & <dbl> & <dbl> & <dbl> & <dbl> & <dbl> & <dbl> & <dbl> & <dbl> & ⋯ & <dbl> & <dbl> & <dbl> & <dbl> & <dbl> & <dbl> & <dbl> & <dbl> & <dbl> & <dbl>\\\\\n\\hline\n\t1 & 1 & -1.079707 & -1.083256 & -1.079707 & -1.079707 & -1.079707 & -1.079707 & -1.079707 & -1.079707 & -1.079707 & ⋯ & -1.0797068 & -1.0797068 & -1.0797068 & -1.0797068 & -1.0797068 & -1.0797068 & -1.0797068 & -1.0797068 & -1.0797068 & -1.0797068\\\\\n\t2 & 1 & -1.080197 & -1.078021 & -1.078021 & -1.078021 & -1.078021 & -1.078021 & -1.080197 & -1.078021 & -1.078021 & ⋯ & -1.1106696 & -1.1128462 & -1.1150228 & -1.1171994 & -1.1193760 & -1.1215526 & -1.1237292 & -1.1259058 & -1.1280824 & -1.1302591\\\\\n\t3 & 1 & -1.154060 & -1.154060 & -1.154060 & -1.154060 & -1.154060 & -1.154060 & -1.154060 & -1.154060 & -1.154060 & ⋯ & -1.1540601 & -1.1540601 & -1.1540601 & -1.1540601 & -1.1540601 & -1.1540601 & -1.1540601 & -1.1540601 & -1.1540601 & -1.1540601\\\\\n\t4 & 1 & -1.658965 & -1.696605 & -1.705291 & -1.711082 & -1.711082 & -1.715425 & -1.715425 & -1.715425 & -1.715425 & ⋯ & -1.1493818 & -1.1493818 & -1.1493818 & -1.1493818 & -1.1493818 & -1.1493818 & -1.1493818 & -1.1493818 & -1.1493818 & -1.1493818\\\\\n\t5 & 1 & -1.201221 & -1.199042 & -1.199042 & -1.201221 & -1.199042 & -1.199042 & -1.199042 & -1.199042 & -1.199042 & ⋯ & -1.1859678 & -1.1837887 & -1.1816096 & -1.1794305 & -1.1772515 & -1.1750724 & -1.1728933 & -1.1707142 & -1.1685351 & -1.1663560\\\\\n\t6 & 1 & -1.488544 & -1.519276 & -1.527657 & -1.533245 & -1.537436 & -1.537436 & -1.537436 & -1.533245 & -1.537436 & ⋯ & -0.9968258 & -0.9968258 & -0.9968258 & -0.9968258 & -0.9968258 & -0.9968258 & -0.9968258 & -0.9968258 & -0.9968258 & -0.9968258\\\\\n\\end{tabular}\n",
            "text/plain": [
              "  V1 V2        V3        V4        V5        V6        V7        V8       \n",
              "1 1  -1.079707 -1.083256 -1.079707 -1.079707 -1.079707 -1.079707 -1.079707\n",
              "2 1  -1.080197 -1.078021 -1.078021 -1.078021 -1.078021 -1.078021 -1.080197\n",
              "3 1  -1.154060 -1.154060 -1.154060 -1.154060 -1.154060 -1.154060 -1.154060\n",
              "4 1  -1.658965 -1.696605 -1.705291 -1.711082 -1.711082 -1.715425 -1.715425\n",
              "5 1  -1.201221 -1.199042 -1.199042 -1.201221 -1.199042 -1.199042 -1.199042\n",
              "6 1  -1.488544 -1.519276 -1.527657 -1.533245 -1.537436 -1.537436 -1.537436\n",
              "  V9        V10       ⋯ V144       V145       V146       V147       V148      \n",
              "1 -1.079707 -1.079707 ⋯ -1.0797068 -1.0797068 -1.0797068 -1.0797068 -1.0797068\n",
              "2 -1.078021 -1.078021 ⋯ -1.1106696 -1.1128462 -1.1150228 -1.1171994 -1.1193760\n",
              "3 -1.154060 -1.154060 ⋯ -1.1540601 -1.1540601 -1.1540601 -1.1540601 -1.1540601\n",
              "4 -1.715425 -1.715425 ⋯ -1.1493818 -1.1493818 -1.1493818 -1.1493818 -1.1493818\n",
              "5 -1.199042 -1.199042 ⋯ -1.1859678 -1.1837887 -1.1816096 -1.1794305 -1.1772515\n",
              "6 -1.533245 -1.537436 ⋯ -0.9968258 -0.9968258 -0.9968258 -0.9968258 -0.9968258\n",
              "  V149       V150       V151       V152       V153      \n",
              "1 -1.0797068 -1.0797068 -1.0797068 -1.0797068 -1.0797068\n",
              "2 -1.1215526 -1.1237292 -1.1259058 -1.1280824 -1.1302591\n",
              "3 -1.1540601 -1.1540601 -1.1540601 -1.1540601 -1.1540601\n",
              "4 -1.1493818 -1.1493818 -1.1493818 -1.1493818 -1.1493818\n",
              "5 -1.1750724 -1.1728933 -1.1707142 -1.1685351 -1.1663560\n",
              "6 -0.9968258 -0.9968258 -0.9968258 -0.9968258 -0.9968258"
            ]
          },
          "metadata": {}
        }
      ]
    },
    {
      "cell_type": "code",
      "source": [
        "sum(trainData$V1=='-1')/nrow(trainData)\n",
        "sum(testData$V1=='-1')/nrow(testData)"
      ],
      "metadata": {
        "colab": {
          "base_uri": "https://localhost:8080/",
          "height": 52
        },
        "id": "S1wxxW0gKI0-",
        "outputId": "18a2135f-1c9e-4ad4-a669-e9c6314f3344"
      },
      "execution_count": 214,
      "outputs": [
        {
          "output_type": "display_data",
          "data": {
            "text/html": [
              "0.097"
            ],
            "text/markdown": "0.097",
            "text/latex": "0.097",
            "text/plain": [
              "[1] 0.097"
            ]
          },
          "metadata": {}
        },
        {
          "output_type": "display_data",
          "data": {
            "text/html": [
              "0.107884490590526"
            ],
            "text/markdown": "0.107884490590526",
            "text/latex": "0.107884490590526",
            "text/plain": [
              "[1] 0.1078845"
            ]
          },
          "metadata": {}
        }
      ]
    },
    {
      "cell_type": "code",
      "source": [
        "for(i in 2:ncol(trainData)){\n",
        "  trainData[,i] = (trainData[,i] - min(trainData[,i]))/(max(trainData[,i])-min(trainData[,i]))\n",
        "}\n",
        "for(i in 2:ncol(testData)){\n",
        "  testData[,i] = (testData[,i] - min(testData[,i]))/(max(testData[,i])-min(testData[,i]))\n",
        "}\n",
        "head(trainData,3)"
      ],
      "metadata": {
        "colab": {
          "base_uri": "https://localhost:8080/",
          "height": 212
        },
        "id": "0cy2cd_aWpaz",
        "outputId": "fb08a16a-7149-4ba1-fcec-31e643e57a3c"
      },
      "execution_count": 201,
      "outputs": [
        {
          "output_type": "display_data",
          "data": {
            "text/html": [
              "<table class=\"dataframe\">\n",
              "<caption>A data.frame: 3 × 153</caption>\n",
              "<thead>\n",
              "\t<tr><th></th><th scope=col>V1</th><th scope=col>V2</th><th scope=col>V3</th><th scope=col>V4</th><th scope=col>V5</th><th scope=col>V6</th><th scope=col>V7</th><th scope=col>V8</th><th scope=col>V9</th><th scope=col>V10</th><th scope=col>⋯</th><th scope=col>V144</th><th scope=col>V145</th><th scope=col>V146</th><th scope=col>V147</th><th scope=col>V148</th><th scope=col>V149</th><th scope=col>V150</th><th scope=col>V151</th><th scope=col>V152</th><th scope=col>V153</th></tr>\n",
              "\t<tr><th></th><th scope=col>&lt;fct&gt;</th><th scope=col>&lt;dbl&gt;</th><th scope=col>&lt;dbl&gt;</th><th scope=col>&lt;dbl&gt;</th><th scope=col>&lt;dbl&gt;</th><th scope=col>&lt;dbl&gt;</th><th scope=col>&lt;dbl&gt;</th><th scope=col>&lt;dbl&gt;</th><th scope=col>&lt;dbl&gt;</th><th scope=col>&lt;dbl&gt;</th><th scope=col>⋯</th><th scope=col>&lt;dbl&gt;</th><th scope=col>&lt;dbl&gt;</th><th scope=col>&lt;dbl&gt;</th><th scope=col>&lt;dbl&gt;</th><th scope=col>&lt;dbl&gt;</th><th scope=col>&lt;dbl&gt;</th><th scope=col>&lt;dbl&gt;</th><th scope=col>&lt;dbl&gt;</th><th scope=col>&lt;dbl&gt;</th><th scope=col>&lt;dbl&gt;</th></tr>\n",
              "</thead>\n",
              "<tbody>\n",
              "\t<tr><th scope=row>1</th><td>1</td><td>0.1653769</td><td>0.2346507</td><td>0.2093497</td><td>0.2147464</td><td>0.2218085</td><td>0.2013754</td><td>0.2248545</td><td>0.1176004</td><td>0.05470156</td><td>⋯</td><td>0.08117956</td><td>0.08654791</td><td>0.1068764</td><td>0.1281702</td><td>0.1443307</td><td>0.1653768</td><td>0.1765412</td><td>0.1996616</td><td>0.2028182</td><td>0.2353417</td></tr>\n",
              "\t<tr><th scope=row>2</th><td>1</td><td>0.9295249</td><td>0.9363859</td><td>0.9352538</td><td>0.9303544</td><td>0.9314444</td><td>0.9346653</td><td>0.8735742</td><td>0.7895420</td><td>0.76127811</td><td>⋯</td><td>0.84843695</td><td>0.84133762</td><td>0.8381368</td><td>0.8335048</td><td>0.8319988</td><td>0.8261506</td><td>0.8273928</td><td>0.8183575</td><td>0.8255695</td><td>0.8066515</td></tr>\n",
              "\t<tr><th scope=row>3</th><td>1</td><td>0.7242163</td><td>0.7525353</td><td>0.7466348</td><td>0.7564167</td><td>0.7510969</td><td>0.7485947</td><td>0.7089631</td><td>0.6190384</td><td>0.58198595</td><td>⋯</td><td>0.61521598</td><td>0.61190641</td><td>0.6158577</td><td>0.6093348</td><td>0.6229704</td><td>0.6252972</td><td>0.6295554</td><td>0.6302943</td><td>0.6362736</td><td>0.6329922</td></tr>\n",
              "</tbody>\n",
              "</table>\n"
            ],
            "text/markdown": "\nA data.frame: 3 × 153\n\n| <!--/--> | V1 &lt;fct&gt; | V2 &lt;dbl&gt; | V3 &lt;dbl&gt; | V4 &lt;dbl&gt; | V5 &lt;dbl&gt; | V6 &lt;dbl&gt; | V7 &lt;dbl&gt; | V8 &lt;dbl&gt; | V9 &lt;dbl&gt; | V10 &lt;dbl&gt; | ⋯ ⋯ | V144 &lt;dbl&gt; | V145 &lt;dbl&gt; | V146 &lt;dbl&gt; | V147 &lt;dbl&gt; | V148 &lt;dbl&gt; | V149 &lt;dbl&gt; | V150 &lt;dbl&gt; | V151 &lt;dbl&gt; | V152 &lt;dbl&gt; | V153 &lt;dbl&gt; |\n|---|---|---|---|---|---|---|---|---|---|---|---|---|---|---|---|---|---|---|---|---|---|\n| 1 | 1 | 0.1653769 | 0.2346507 | 0.2093497 | 0.2147464 | 0.2218085 | 0.2013754 | 0.2248545 | 0.1176004 | 0.05470156 | ⋯ | 0.08117956 | 0.08654791 | 0.1068764 | 0.1281702 | 0.1443307 | 0.1653768 | 0.1765412 | 0.1996616 | 0.2028182 | 0.2353417 |\n| 2 | 1 | 0.9295249 | 0.9363859 | 0.9352538 | 0.9303544 | 0.9314444 | 0.9346653 | 0.8735742 | 0.7895420 | 0.76127811 | ⋯ | 0.84843695 | 0.84133762 | 0.8381368 | 0.8335048 | 0.8319988 | 0.8261506 | 0.8273928 | 0.8183575 | 0.8255695 | 0.8066515 |\n| 3 | 1 | 0.7242163 | 0.7525353 | 0.7466348 | 0.7564167 | 0.7510969 | 0.7485947 | 0.7089631 | 0.6190384 | 0.58198595 | ⋯ | 0.61521598 | 0.61190641 | 0.6158577 | 0.6093348 | 0.6229704 | 0.6252972 | 0.6295554 | 0.6302943 | 0.6362736 | 0.6329922 |\n\n",
            "text/latex": "A data.frame: 3 × 153\n\\begin{tabular}{r|lllllllllllllllllllll}\n  & V1 & V2 & V3 & V4 & V5 & V6 & V7 & V8 & V9 & V10 & ⋯ & V144 & V145 & V146 & V147 & V148 & V149 & V150 & V151 & V152 & V153\\\\\n  & <fct> & <dbl> & <dbl> & <dbl> & <dbl> & <dbl> & <dbl> & <dbl> & <dbl> & <dbl> & ⋯ & <dbl> & <dbl> & <dbl> & <dbl> & <dbl> & <dbl> & <dbl> & <dbl> & <dbl> & <dbl>\\\\\n\\hline\n\t1 & 1 & 0.1653769 & 0.2346507 & 0.2093497 & 0.2147464 & 0.2218085 & 0.2013754 & 0.2248545 & 0.1176004 & 0.05470156 & ⋯ & 0.08117956 & 0.08654791 & 0.1068764 & 0.1281702 & 0.1443307 & 0.1653768 & 0.1765412 & 0.1996616 & 0.2028182 & 0.2353417\\\\\n\t2 & 1 & 0.9295249 & 0.9363859 & 0.9352538 & 0.9303544 & 0.9314444 & 0.9346653 & 0.8735742 & 0.7895420 & 0.76127811 & ⋯ & 0.84843695 & 0.84133762 & 0.8381368 & 0.8335048 & 0.8319988 & 0.8261506 & 0.8273928 & 0.8183575 & 0.8255695 & 0.8066515\\\\\n\t3 & 1 & 0.7242163 & 0.7525353 & 0.7466348 & 0.7564167 & 0.7510969 & 0.7485947 & 0.7089631 & 0.6190384 & 0.58198595 & ⋯ & 0.61521598 & 0.61190641 & 0.6158577 & 0.6093348 & 0.6229704 & 0.6252972 & 0.6295554 & 0.6302943 & 0.6362736 & 0.6329922\\\\\n\\end{tabular}\n",
            "text/plain": [
              "  V1 V2        V3        V4        V5        V6        V7        V8       \n",
              "1 1  0.1653769 0.2346507 0.2093497 0.2147464 0.2218085 0.2013754 0.2248545\n",
              "2 1  0.9295249 0.9363859 0.9352538 0.9303544 0.9314444 0.9346653 0.8735742\n",
              "3 1  0.7242163 0.7525353 0.7466348 0.7564167 0.7510969 0.7485947 0.7089631\n",
              "  V9        V10        ⋯ V144       V145       V146      V147      V148     \n",
              "1 0.1176004 0.05470156 ⋯ 0.08117956 0.08654791 0.1068764 0.1281702 0.1443307\n",
              "2 0.7895420 0.76127811 ⋯ 0.84843695 0.84133762 0.8381368 0.8335048 0.8319988\n",
              "3 0.6190384 0.58198595 ⋯ 0.61521598 0.61190641 0.6158577 0.6093348 0.6229704\n",
              "  V149      V150      V151      V152      V153     \n",
              "1 0.1653768 0.1765412 0.1996616 0.2028182 0.2353417\n",
              "2 0.8261506 0.8273928 0.8183575 0.8255695 0.8066515\n",
              "3 0.6252972 0.6295554 0.6302943 0.6362736 0.6329922"
            ]
          },
          "metadata": {}
        }
      ]
    },
    {
      "cell_type": "code",
      "source": [
        "kvec = 1:50\n",
        "nk=length(kvec)\n",
        "\n",
        "inMISS = rep(0,nk) #pre-allocating misclassification for in-sample data\n",
        "outMISS = rep(0,nk) #pre-allocating misclassification for out-of-sample data\n",
        "\n",
        "for(i in 1:nk){\n",
        "    kmodtr = kknn(V1 ~., train=trainData, test=trainData, k=i, kernel=\"rectangular\")\n",
        "    kmod = kknn(V1 ~., train=trainData, test=testData, k=i, kernel=\"rectangular\")\n",
        "\n",
        "     #Instead of RSME, we can use the misclassification rate\n",
        "     inMISS[i] = (table(trainData$V1,kmodtr$fitted.values)[2]+table(trainData$V1,kmodtr$fitted.values)[1,2])/sum(table(trainData$V1,kmodtr$fitted.values))\n",
        "     outMISS[i] = (table(testData$V1,kmod$fitted.values)[2]+table(testData$V1,kmod$fitted.values)[1,2])/sum(table(testData$V1,kmod$fitted.values))\n",
        "    }"
      ],
      "metadata": {
        "id": "55u9T5c-xLM9"
      },
      "execution_count": 202,
      "outputs": []
    },
    {
      "cell_type": "code",
      "source": [
        "# Change plot size\n",
        "options(repr.plot.width=10, repr.plot.height=5)\n",
        "\n",
        "#make plot consist of two subplots in a row\n",
        "par(mfrow=c(1,2),mar=c(4,6,1,1))\n",
        "\n",
        "plot(kvec,outMISS,type=\"l\",\n",
        "     xlab=\"k\",ylab=\"outMISS and inMISS\",\n",
        "     col=\"red\",ylim=range(outMISS))\n",
        "lines(kvec,inMISS,col=\"blue\")\n",
        "legend(x = \"topleft\",          # Position\n",
        "       legend = c(\"test Misclass (outMISS)\", \"train Misclass (inMISS)\"),  # Legend texts\n",
        "       lty = c(1, 1),           # Line types\n",
        "       col = c(\"red\", \"blue\"),           # Line colors\n",
        "       lwd = 2,                 # Line width\n",
        "       bty = \"n\")   # boundary type\n",
        "\n",
        "plot(log(1/kvec),outMISS,type=\"l\",\n",
        "     xlab=\"Complexity (log(1/k))\",ylab=\"outMISS and inMISS\",\n",
        "     col=\"red\",ylim=range(outMISS))\n",
        "lines(log(1/kvec),inMISS,col=\"blue\")\n",
        "legend(x = \"topleft\",          # Position\n",
        "       legend = c(\"test Misclass (outMISS)\", \"train Misclass (inMISS)\"),  # Legend texts\n",
        "       lty = c(1, 1),           # Line types\n",
        "       col = c(\"red\", \"blue\"),           # Line colors\n",
        "       lwd = 2,                 # Line width\n",
        "       bty = \"n\")   # boundary type"
      ],
      "metadata": {
        "colab": {
          "base_uri": "https://localhost:8080/",
          "height": 317
        },
        "id": "Xn7W-iW_5UdR",
        "outputId": "b1595083-9271-49c8-84b0-84d828426116"
      },
      "execution_count": 203,
      "outputs": [
        {
          "output_type": "display_data",
          "data": {
            "text/plain": [
              "plot without title"
            ],
            "image/png": "[encoded data removed]"
          },
          "metadata": {
            "image/png": {
              "width": 600,
              "height": 300
            }
          }
        }
      ]
    },
    {
      "cell_type": "code",
      "source": [
        "kbest = which.min(outMISS)\n",
        "kbest\n",
        "\n",
        "kmodbest = kknn(V1 ~., train=trainData, test=testData, k=kbest, kernel=\"rectangular\")\n",
        "\n",
        "confusionMatrix(kmodbest$fitted.values, testData$V1)"
      ],
      "metadata": {
        "colab": {
          "base_uri": "https://localhost:8080/",
          "height": 503
        },
        "id": "uxuyB-5bszaA",
        "outputId": "bd18b672-f59d-42d4-e7d6-d6c203f46450"
      },
      "execution_count": 204,
      "outputs": [
        {
          "output_type": "display_data",
          "data": {
            "text/html": [
              "1"
            ],
            "text/markdown": "1",
            "text/latex": "1",
            "text/plain": [
              "[1] 1"
            ]
          },
          "metadata": {}
        },
        {
          "output_type": "display_data",
          "data": {
            "text/plain": [
              "Confusion Matrix and Statistics\n",
              "\n",
              "          Reference\n",
              "Prediction   -1    1\n",
              "        -1  653   22\n",
              "        1    12 5477\n",
              "                                          \n",
              "               Accuracy : 0.9945          \n",
              "                 95% CI : (0.9923, 0.9962)\n",
              "    No Information Rate : 0.8921          \n",
              "    P-Value [Acc > NIR] : <2e-16          \n",
              "                                          \n",
              "                  Kappa : 0.9715          \n",
              "                                          \n",
              " Mcnemar's Test P-Value : 0.1227          \n",
              "                                          \n",
              "            Sensitivity : 0.9820          \n",
              "            Specificity : 0.9960          \n",
              "         Pos Pred Value : 0.9674          \n",
              "         Neg Pred Value : 0.9978          \n",
              "             Prevalence : 0.1079          \n",
              "         Detection Rate : 0.1059          \n",
              "   Detection Prevalence : 0.1095          \n",
              "      Balanced Accuracy : 0.9890          \n",
              "                                          \n",
              "       'Positive' Class : -1              \n",
              "                                          "
            ]
          },
          "metadata": {}
        }
      ]
    },
    {
      "cell_type": "code",
      "source": [
        "kmodtr2 = train.kknn(V1 ~., data=trainData, kmax=300, kernel=\"rectangular\")"
      ],
      "metadata": {
        "id": "O94kUT43b88E"
      },
      "execution_count": 205,
      "outputs": []
    },
    {
      "cell_type": "code",
      "source": [
        "kmodtr2\n",
        "prediction = predict(kmodtr2, testData)\n",
        "plot(1:300,kmodtr2$MISCLASS)"
      ],
      "metadata": {
        "colab": {
          "base_uri": "https://localhost:8080/",
          "height": 456
        },
        "id": "j1flFslNZJyj",
        "outputId": "db904971-aea4-4526-c790-36b9356daf3b"
      },
      "execution_count": 206,
      "outputs": [
        {
          "output_type": "display_data",
          "data": {
            "text/plain": [
              "\n",
              "Call:\n",
              "train.kknn(formula = V1 ~ ., data = trainData, kmax = 300, kernel = \"rectangular\")\n",
              "\n",
              "Type of response variable: nominal\n",
              "Minimal misclassification: 0.005\n",
              "Best kernel: rectangular\n",
              "Best k: 1"
            ]
          },
          "metadata": {}
        },
        {
          "output_type": "display_data",
          "data": {
            "text/plain": [
              "plot without title"
            ],
            "image/png": "[encoded data removed]"
          },
          "metadata": {
            "image/png": {
              "width": 600,
              "height": 300
            }
          }
        }
      ]
    },
    {
      "cell_type": "code",
      "source": [
        "confusionMatrix(prediction,testData$V1,positive='1')"
      ],
      "metadata": {
        "colab": {
          "base_uri": "https://localhost:8080/",
          "height": 486
        },
        "id": "MRHky1ewhl2o",
        "outputId": "0c09aab0-0d69-4ad8-ef7a-f72001dd46eb"
      },
      "execution_count": 207,
      "outputs": [
        {
          "output_type": "display_data",
          "data": {
            "text/plain": [
              "Confusion Matrix and Statistics\n",
              "\n",
              "          Reference\n",
              "Prediction   -1    1\n",
              "        -1  653   22\n",
              "        1    12 5477\n",
              "                                          \n",
              "               Accuracy : 0.9945          \n",
              "                 95% CI : (0.9923, 0.9962)\n",
              "    No Information Rate : 0.8921          \n",
              "    P-Value [Acc > NIR] : <2e-16          \n",
              "                                          \n",
              "                  Kappa : 0.9715          \n",
              "                                          \n",
              " Mcnemar's Test P-Value : 0.1227          \n",
              "                                          \n",
              "            Sensitivity : 0.9960          \n",
              "            Specificity : 0.9820          \n",
              "         Pos Pred Value : 0.9978          \n",
              "         Neg Pred Value : 0.9674          \n",
              "             Prevalence : 0.8921          \n",
              "         Detection Rate : 0.8885          \n",
              "   Detection Prevalence : 0.8905          \n",
              "      Balanced Accuracy : 0.9890          \n",
              "                                          \n",
              "       'Positive' Class : 1               \n",
              "                                          "
            ]
          },
          "metadata": {}
        }
      ]
    },
    {
      "cell_type": "code",
      "source": [
        "(sum(testData$V1=='-1')-confusionMatrix(prediction,testData$V1,positive='1')$table[2])/sum(testData$V1=='-1')"
      ],
      "metadata": {
        "colab": {
          "base_uri": "https://localhost:8080/",
          "height": 34
        },
        "id": "X0neu5TN0E5F",
        "outputId": "e31093f6-891b-4f1d-8c02-f04085a4b8c6"
      },
      "execution_count": 208,
      "outputs": [
        {
          "output_type": "display_data",
          "data": {
            "text/html": [
              "0.981954887218045"
            ],
            "text/markdown": "0.981954887218045",
            "text/latex": "0.981954887218045",
            "text/plain": [
              "[1] 0.9819549"
            ]
          },
          "metadata": {}
        }
      ]
    },
    {
      "cell_type": "code",
      "source": [
        "trainData = read.table(\"Wafer_TRAIN.txt\", header = FALSE, sep = \"\", dec = \".\")\n",
        "testData = read.table(\"Wafer_TEST.txt\", header = FALSE, sep = \"\", dec = \".\") #reading txt files to data frame\n",
        "\n",
        "trainData$V1 = as.factor(trainData$V1)\n",
        "testData$V1 = as.factor(testData$V1) #convert response variable to be categorical nominal\n",
        "\n",
        "nb = naive_bayes(V1~., trainData,usekernel = TRUE)\n",
        "prediction = predict(nb,testData[-1])\n",
        "\n",
        "confusionMatrix(prediction,testData$V1,positive='1')"
      ],
      "metadata": {
        "colab": {
          "base_uri": "https://localhost:8080/",
          "height": 486
        },
        "id": "VjkrDh5bzeh1",
        "outputId": "9a798d0d-571b-43ad-f60d-b4502c35fb40"
      },
      "execution_count": 209,
      "outputs": [
        {
          "output_type": "display_data",
          "data": {
            "text/plain": [
              "Confusion Matrix and Statistics\n",
              "\n",
              "          Reference\n",
              "Prediction   -1    1\n",
              "        -1  462  586\n",
              "        1   203 4913\n",
              "                                          \n",
              "               Accuracy : 0.872           \n",
              "                 95% CI : (0.8634, 0.8802)\n",
              "    No Information Rate : 0.8921          \n",
              "    P-Value [Acc > NIR] : 1               \n",
              "                                          \n",
              "                  Kappa : 0.4694          \n",
              "                                          \n",
              " Mcnemar's Test P-Value : <2e-16          \n",
              "                                          \n",
              "            Sensitivity : 0.8934          \n",
              "            Specificity : 0.6947          \n",
              "         Pos Pred Value : 0.9603          \n",
              "         Neg Pred Value : 0.4408          \n",
              "             Prevalence : 0.8921          \n",
              "         Detection Rate : 0.7970          \n",
              "   Detection Prevalence : 0.8300          \n",
              "      Balanced Accuracy : 0.7941          \n",
              "                                          \n",
              "       'Positive' Class : 1               \n",
              "                                          "
            ]
          },
          "metadata": {}
        }
      ]
    },
    {
      "cell_type": "code",
      "source": [
        "(sum(testData$V1=='-1')-confusionMatrix(prediction,testData$V1,positive='1')$table[2])/sum(testData$V1=='-1')"
      ],
      "metadata": {
        "colab": {
          "base_uri": "https://localhost:8080/",
          "height": 34
        },
        "id": "Y_4mtyeR94Df",
        "outputId": "fec5aa25-0497-46bc-ae43-5c329669cc78"
      },
      "execution_count": 210,
      "outputs": [
        {
          "output_type": "display_data",
          "data": {
            "text/html": [
              "0.694736842105263"
            ],
            "text/markdown": "0.694736842105263",
            "text/latex": "0.694736842105263",
            "text/plain": [
              "[1] 0.6947368"
            ]
          },
          "metadata": {}
        }
      ]
    },
    {
      "cell_type": "markdown",
      "source": [
        "Maybe the first 5 variables are all that is needed. We could also test different rescaling methods. Class imbalance"
      ],
      "metadata": {
        "id": "-05rmx_sejZf"
      }
    },
    {
      "cell_type": "code",
      "source": [
        "%%shell\n",
        "jupyter nbconvert --to html /content/DAT301Project2.ipynb"
      ],
      "metadata": {
        "id": "aB56vzjoMYnK"
      },
      "execution_count": null,
      "outputs": []
    }
  ]
}